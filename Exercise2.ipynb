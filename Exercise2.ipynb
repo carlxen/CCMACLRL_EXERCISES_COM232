{
  "cells": [
    {
      "cell_type": "markdown",
      "metadata": {
        "id": "view-in-github",
        "colab_type": "text"
      },
      "source": [
        "<a href=\"https://colab.research.google.com/github/carlxen/CCMACLRL_EXERCISES_COM232/blob/main/Exercise2.ipynb\" target=\"_parent\"><img src=\"https://colab.research.google.com/assets/colab-badge.svg\" alt=\"Open In Colab\"/></a>"
      ]
    },
    {
      "cell_type": "markdown",
      "metadata": {
        "id": "cO1C0WncMRAS"
      },
      "source": [
        "# Exercise 2\n",
        "\n",
        "Simple Linear Regression\n",
        "\n",
        "**Instructions:**\n",
        "\n",
        "Build a Simple Linear Regression model to study the linear relationship between the years of experience and salary.\n",
        "\n",
        "<img src=\"https://media2.giphy.com/media/67ThRZlYBvibtdF9JH/200w.gif?cid=6c09b952x78udp8ynvf71q2iximtwq0egwludug1qo7qgla2&ep=v1_gifs_search&rid=200w.gif&ct=g\">\n"
      ]
    },
    {
      "cell_type": "markdown",
      "metadata": {
        "id": "rd1qeFsBMRAU"
      },
      "source": [
        "1. Import the necessary packages"
      ]
    },
    {
      "cell_type": "code",
      "execution_count": null,
      "metadata": {
        "id": "dGM2K2BNMRAV"
      },
      "outputs": [],
      "source": [
        "import numpy as np\n",
        "import pandas as pd\n",
        "import matplotlib.pyplot as plt\n",
        "from sklearn.model_selection import train_test_split\n",
        "from sklearn.linear_model import LinearRegression"
      ]
    },
    {
      "cell_type": "markdown",
      "metadata": {
        "id": "y5OKSktOMRAW"
      },
      "source": [
        "2. Load the salary.csv file"
      ]
    },
    {
      "cell_type": "code",
      "execution_count": null,
      "metadata": {
        "id": "QXYTr8lcMRAX"
      },
      "outputs": [],
      "source": [
        "# put your answer here\n",
        "df = pd.read_csv(\"salary.csv\")"
      ]
    },
    {
      "cell_type": "markdown",
      "metadata": {
        "id": "sZCe933EMRAX"
      },
      "source": [
        "3. Print the first 5 rows of the dataset"
      ]
    },
    {
      "cell_type": "code",
      "execution_count": null,
      "metadata": {
        "id": "tVzKKD-3MRAX"
      },
      "outputs": [],
      "source": [
        "# put your answer here\n",
        "df.head()"
      ]
    },
    {
      "cell_type": "markdown",
      "metadata": {
        "id": "AA6L-SJKMRAY"
      },
      "source": [
        "4. Display the general information of the dataframe"
      ]
    },
    {
      "cell_type": "code",
      "execution_count": null,
      "metadata": {
        "id": "HNzWGE7aMRAY"
      },
      "outputs": [],
      "source": [
        "# put your answer here\n",
        "df.describe()"
      ]
    },
    {
      "cell_type": "markdown",
      "metadata": {
        "id": "3FTnPu21MRAY"
      },
      "source": [
        "5. Visualize the data by creating a scatter plot"
      ]
    },
    {
      "cell_type": "code",
      "execution_count": null,
      "metadata": {
        "id": "vpuKzGodMRAZ"
      },
      "outputs": [],
      "source": [
        "# put your answer here\n",
        "df.plot(x='YearsExperience', y='Salary', kind = 'scatter')"
      ]
    },
    {
      "cell_type": "markdown",
      "metadata": {
        "id": "Wc732FeFMRAZ"
      },
      "source": [
        "6. Split the dataset into a training set and test set"
      ]
    },
    {
      "cell_type": "code",
      "execution_count": null,
      "metadata": {
        "id": "QXe9ZyMeMRAa"
      },
      "outputs": [],
      "source": [
        "# put answer here\n",
        "X = df['YearsExperience'].values\n",
        "y = df['Salary'].values\n",
        "\n",
        "X = X.reshape(-1, 1)\n",
        "y = y.reshape(-1, 1)\n",
        "\n",
        "X_train, X_test, y_train, y_test = train_test_split(X, y, test_size=0.2, random_state=42)\n",
        "\n",
        "print(\"X_train shape:\", X_train.shape)\n",
        "print(\"X_test shape:\", X_test.shape)\n",
        "print(\"y_train shape:\", y_train.shape)\n",
        "print(\"y_test shape:\", y_test.shape)"
      ]
    },
    {
      "cell_type": "markdown",
      "metadata": {
        "id": "--NT4cAlMRAa"
      },
      "source": [
        "7. Create an new instance of a linear regression model"
      ]
    },
    {
      "cell_type": "code",
      "execution_count": null,
      "metadata": {
        "id": "KsfbDTmEMRAa"
      },
      "outputs": [],
      "source": [
        "# put your answer here\n",
        "lr_model = LinearRegression()"
      ]
    },
    {
      "cell_type": "markdown",
      "metadata": {
        "id": "Br8TaXjPMRAb"
      },
      "source": [
        "8. Train and test the model using the training set and test set"
      ]
    },
    {
      "cell_type": "code",
      "execution_count": null,
      "metadata": {
        "id": "IbY2HJYoMRAb"
      },
      "outputs": [],
      "source": [
        "# put your answer here\n",
        "lr_model.fit(X_train, y_train)\n",
        "y_pred = lr_model.predict(X_test)"
      ]
    },
    {
      "cell_type": "markdown",
      "metadata": {
        "id": "IUpJhUafMRAc"
      },
      "source": [
        "9. Print the equation of the line\n",
        "\n",
        "- Display the slope\n",
        "- Display the intercept\n",
        "- Display the equation of the line"
      ]
    },
    {
      "cell_type": "code",
      "execution_count": null,
      "metadata": {
        "id": "hedilrj2MRAc"
      },
      "outputs": [],
      "source": [
        "m = lr_model.coef_[0]\n",
        "m = m[0]\n",
        "\n",
        "b = lr_model.intercept_[0]\n",
        "\n",
        "print(\"b =\", b)\n",
        "print(\"m =\", m)\n",
        "print(\"y = {}x + {}\".format(m, b))"
      ]
    },
    {
      "cell_type": "markdown",
      "metadata": {
        "id": "Z1GBgR7jMRAd"
      },
      "source": [
        "10. Draw the Regression Line"
      ]
    },
    {
      "cell_type": "code",
      "execution_count": 28,
      "metadata": {
        "id": "ZA4uXSSpMRAd",
        "colab": {
          "base_uri": "https://localhost:8080/",
          "height": 472
        },
        "outputId": "e7231bae-a309-4796-fb39-25beb8b72f62"
      },
      "outputs": [
        {
          "output_type": "display_data",
          "data": {
            "text/plain": [
              "<Figure size 640x480 with 1 Axes>"
            ],
            "image/png": "[encoded data removed]"
          },
          "metadata": {}
        }
      ],
      "source": [
        "# put your answer here\n",
        "plt.scatter(X, y, color = 'pink', label = 'Data Points')\n",
        "plt.plot(X_test, y_pred, color = 'purple', label = 'Regression Line')\n",
        "plt.title('Relationship between Years of Experience and Salary')\n",
        "plt.xlabel('Years of Experience')\n",
        "plt.ylabel('Salary')\n",
        "plt.legend()\n",
        "plt.show()"
      ]
    },
    {
      "cell_type": "markdown",
      "metadata": {
        "id": "5L2fTjqzMRAe"
      },
      "source": [
        "11. Compute the Sum of Square Error (SSE)"
      ]
    },
    {
      "cell_type": "code",
      "execution_count": 29,
      "metadata": {
        "id": "iuV_mU3mMRAe",
        "colab": {
          "base_uri": "https://localhost:8080/"
        },
        "outputId": "b7140776-9600-4d36-b332-64492ad00231"
      },
      "outputs": [
        {
          "output_type": "stream",
          "name": "stdout",
          "text": [
            "Residual Sum of Squares is : 298980581.13545\n"
          ]
        }
      ],
      "source": [
        "y_test = y_test.reshape(-1)\n",
        "y_pred = y_pred.reshape(-1)\n",
        "\n",
        "df1 = pd.DataFrame({'Actual Salary: ': y_test, 'Predicted Salary: ':y_pred})\n",
        "df1.head()\n",
        "\n",
        "sse = np.sum((y_test - y_pred) ** 2)\n",
        "print(\"Residual Sum of Squares is :\", sse)"
      ]
    },
    {
      "cell_type": "code",
      "source": [
        "from sklearn.metrics import r2_score\n",
        "r2 = r2_score(y_test, y_pred)\n",
        "print(r2)"
      ],
      "metadata": {
        "colab": {
          "base_uri": "https://localhost:8080/"
        },
        "id": "L7C7Stozb3J6",
        "outputId": "05b4a3cd-ac8b-4a12-a45e-1b6cce3b928f"
      },
      "execution_count": 30,
      "outputs": [
        {
          "output_type": "stream",
          "name": "stdout",
          "text": [
            "0.9024461774180498\n"
          ]
        }
      ]
    }
  ],
  "metadata": {
    "kernelspec": {
      "display_name": "Python 3",
      "language": "python",
      "name": "python3"
    },
    "language_info": {
      "codemirror_mode": {
        "name": "ipython",
        "version": 3
      },
      "file_extension": ".py",
      "mimetype": "text/x-python",
      "name": "python",
      "nbconvert_exporter": "python",
      "pygments_lexer": "ipython3",
      "version": "3.11.4"
    },
    "orig_nbformat": 4,
    "colab": {
      "provenance": [],
      "include_colab_link": true
    }
  },
  "nbformat": 4,
  "nbformat_minor": 0
}